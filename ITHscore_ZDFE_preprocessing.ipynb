{
 "cells": [
  {
   "cell_type": "code",
   "execution_count": 2,
   "id": "1d922bce",
   "metadata": {},
   "outputs": [],
   "source": [
    "import os\n",
    "import pandas as pd\n",
    "import numpy as np\n",
    "import shutil\n",
    "from glob import glob\n",
    "from tqdm import tqdm"
   ]
  },
  {
   "cell_type": "code",
   "execution_count": 3,
   "id": "34dee27b",
   "metadata": {},
   "outputs": [],
   "source": [
    "case_path = 'D:/projects/ITHscore/03_ZDFE_cases'\n",
    "label_path = 'D:/projects/ITHscore/03_ZDFE_labels'"
   ]
  },
  {
   "cell_type": "markdown",
   "id": "8353798d",
   "metadata": {},
   "source": [
    "## 1. Extract the intersection IDs"
   ]
  },
  {
   "cell_type": "code",
   "execution_count": 10,
   "id": "b753ab45",
   "metadata": {},
   "outputs": [],
   "source": [
    "def cat_intersection_ids(case_path, label_path):\n",
    "    \"\"\"\n",
    "    Finds the intersection of TCGA case IDs and labels, and saves the intersected IDs to a CSV file.\n",
    "    \n",
    "    Args:\n",
    "        case_path: + '/GBM_T1C_first_nrrd' Path to the directory with case files named by TCGA ID.\n",
    "        label_path: Path to the CSV file with columns: ID, OS, and OS.time.\n",
    "        \n",
    "    Returns:\n",
    "        intersected_ids: A sorted list of intersected IDs.\n",
    "        \n",
    "    Usage:\n",
    "        >>> intersected_ids = cat_intersection_ids(case_path, label_path)\n",
    "        >>> print(np.shape(intersected_ids))\n",
    "    \"\"\"\n",
    "    df = pd.read_csv(label_path + '/03_ZDFE_label.csv')\n",
    "    df = pd.read_csv(label_path + '/03_ZDFE_label.csv')\n",
    "    \n",
    "    # Ensure the ID column is of type string\n",
    "    df['ID'] = df['ID'].astype(str)\n",
    "    # Pad the ID values with leading zeros to make them at least three digits\n",
    "    df['ID'] = df['ID'].str.zfill(3)\n",
    "    ids = set(df['ID'].values)\n",
    "    \n",
    "    filenames = set(os.listdir(case_path + '/03_N4_GBMfix'))\n",
    "    intersection = ids.intersection(filenames)\n",
    "    \n",
    "    intersected_ids = sorted(intersection)\n",
    "\n",
    "    intersection_result = os.path.join(label_path, 'intersected_ids.csv')\n",
    "    pd.Series(intersected_ids).to_csv(intersection_result, index=False, header=['ID'])\n",
    "\n",
    "    return intersected_ids"
   ]
  },
  {
   "cell_type": "code",
   "execution_count": 11,
   "id": "0a4d419c",
   "metadata": {},
   "outputs": [
    {
     "name": "stdout",
     "output_type": "stream",
     "text": [
      "(126,)\n"
     ]
    }
   ],
   "source": [
    "intersected_ids = cat_intersection_ids(case_path, label_path)\n",
    "print(np.shape(intersected_ids))"
   ]
  },
  {
   "cell_type": "markdown",
   "id": "9fd3fe33",
   "metadata": {},
   "source": [
    "## 2. Create intersected label and intersected folders"
   ]
  },
  {
   "cell_type": "code",
   "execution_count": 12,
   "id": "c5741032",
   "metadata": {},
   "outputs": [],
   "source": [
    "def processing_interactions(intersected_ids, label_path, case_path):\n",
    "    \"\"\"\n",
    "    Process and save the intersected rows and folders from label CSV and case folders.\n",
    "\n",
    "    Args:\n",
    "        intersection_ids: List of intersected IDs.\n",
    "        label_path: Path to a CSV file with the original row names. Intersect rows with intersection_ids\n",
    "                    and save them to a new CSV file '01_TCGA_label_intersection.csv'.\n",
    "        case_path: Path to the folders containing case folders. Each folder includes an image file (nrrd)\n",
    "                   and a seg file (nrrd).\n",
    "                   \n",
    "    Usage:\n",
    "        >>> intersected_ids = cat_intersection_ids(case_path, label_path)\n",
    "        >>> processing_interactions(intersected_ids, label_path, case_path)\n",
    "    \"\"\" \n",
    "    \n",
    "\n",
    "    df_labels = pd.read_csv(os.path.join(label_path, '03_ZDFE_label.csv'))\n",
    "\n",
    "    # Filter the rows that match the intersection IDs\n",
    "    intersected_rows = df_labels[df_labels['ID'].isin(intersected_ids)]\n",
    "\n",
    "    # Save the intersected rows to a new CSV file in the result directory\n",
    "    intersected_rows.to_csv(os.path.join(label_path, '03_ZDFE_label_intersection.csv'), index=False)\n",
    "    \n",
    "    intersection_folder_path = os.path.join(case_path, 'intersection_folders')\n",
    "    if not os.path.exists(intersection_folder_path):\n",
    "        os.makedirs(intersection_folder_path)\n",
    "\n",
    "    # Process and copy the case folders\n",
    "    for case_id in intersected_ids:\n",
    "        # Define the source and destination paths\n",
    "        source_folder = os.path.join(case_path + '/03_N4_GBMfix', case_id)\n",
    "        destination_folder = os.path.join(intersection_folder_path, case_id)\n",
    "\n",
    "        # Check if the source folder exists\n",
    "        if os.path.exists(source_folder):\n",
    "            # Copy the folder to the destination\n",
    "            shutil.copytree(source_folder, destination_folder, dirs_exist_ok=True)"
   ]
  },
  {
   "cell_type": "code",
   "execution_count": 13,
   "id": "fc19cbcc",
   "metadata": {},
   "outputs": [],
   "source": [
    "intersected_ids = cat_intersection_ids(case_path, label_path)\n",
    "processing_interactions(intersected_ids, label_path, case_path)"
   ]
  },
  {
   "cell_type": "markdown",
   "id": "40914f63",
   "metadata": {},
   "source": [
    "## 3. Define image_path and mask_path"
   ]
  },
  {
   "cell_type": "code",
   "execution_count": 14,
   "id": "bcd6e98e",
   "metadata": {},
   "outputs": [],
   "source": [
    "def achieve_img_and_mask_path(case_path):\n",
    "    \"\"\"\n",
    "    Achieve the mask_path and image_path by 'glob’ function.\n",
    "    \n",
    "    Args: \n",
    "        case_path: + intersection_fonders.\n",
    "        \n",
    "    Returns:\n",
    "        image_path: List of image.nrrd.\n",
    "        mask_path: List of seg.nrrd.\n",
    "        \n",
    "    Usage:\n",
    "        >>> image_path, mask_path = achieve_img_and_mask_path(case_path)\n",
    "        >>> print(\"Image Paths Count:\", len(image_paths))\n",
    "        >>> print(\"Mask Paths Count:\", len(mask_paths))\n",
    "\n",
    "    \"\"\"\n",
    "    image_path = []\n",
    "    mask_path = []\n",
    "\n",
    "    \n",
    "    search_path = os.path.join(case_path, 'intersection_folders', '*')\n",
    "\n",
    "    folders = sorted(glob(search_path))\n",
    "    \n",
    "    for folder in tqdm(folders):\n",
    "        data_paths = glob(os.path.join(folder, 'T1C.nrrd'))\n",
    "        mask_paths_glob = glob(os.path.join(folder, 'T1Cseg-label.nrrd'))\n",
    "\n",
    "        if data_paths and mask_paths_glob:\n",
    "            image_path.append(data_paths[0])\n",
    "            mask_path.append(mask_paths_glob[0])\n",
    "\n",
    "    return image_path, mask_path"
   ]
  },
  {
   "cell_type": "code",
   "execution_count": 15,
   "id": "5a049deb",
   "metadata": {},
   "outputs": [
    {
     "name": "stderr",
     "output_type": "stream",
     "text": [
      "100%|██████████████████████████████████████████████████████████████████████████████| 126/126 [00:00<00:00, 4585.09it/s]"
     ]
    },
    {
     "name": "stdout",
     "output_type": "stream",
     "text": [
      "Image Paths Count: 126\n",
      "Mask Paths Count: 126\n"
     ]
    },
    {
     "name": "stderr",
     "output_type": "stream",
     "text": [
      "\n"
     ]
    }
   ],
   "source": [
    "image_path, mask_path = achieve_img_and_mask_path(case_path)\n",
    "print(\"Image Paths Count:\", len(image_path))\n",
    "print(\"Mask Paths Count:\", len(mask_path))"
   ]
  },
  {
   "cell_type": "code",
   "execution_count": null,
   "id": "1f34068b",
   "metadata": {},
   "outputs": [],
   "source": []
  },
  {
   "cell_type": "code",
   "execution_count": null,
   "id": "daa608bc",
   "metadata": {},
   "outputs": [],
   "source": []
  }
 ],
 "metadata": {
  "kernelspec": {
   "display_name": "Python 3 (ipykernel)",
   "language": "python",
   "name": "python3"
  },
  "language_info": {
   "codemirror_mode": {
    "name": "ipython",
    "version": 3
   },
   "file_extension": ".py",
   "mimetype": "text/x-python",
   "name": "python",
   "nbconvert_exporter": "python",
   "pygments_lexer": "ipython3",
   "version": "3.11.5"
  }
 },
 "nbformat": 4,
 "nbformat_minor": 5
}
